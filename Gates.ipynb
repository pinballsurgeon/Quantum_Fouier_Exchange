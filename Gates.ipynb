{
  "nbformat": 4,
  "nbformat_minor": 0,
  "metadata": {
    "colab": {
      "name": "Gates.ipynb",
      "provenance": [],
      "authorship_tag": "ABX9TyMFwWlxheFnPJkIPa26vOr9",
      "include_colab_link": true
    },
    "kernelspec": {
      "name": "python3",
      "display_name": "Python 3"
    },
    "language_info": {
      "name": "python"
    }
  },
  "cells": [
    {
      "cell_type": "markdown",
      "metadata": {
        "id": "view-in-github",
        "colab_type": "text"
      },
      "source": [
        "<a href=\"https://colab.research.google.com/github/pinballsurgeon/Quantum_Fouier_Exchange/blob/main/Gates.ipynb\" target=\"_parent\"><img src=\"https://colab.research.google.com/assets/colab-badge.svg\" alt=\"Open In Colab\"/></a>"
      ]
    },
    {
      "cell_type": "markdown",
      "source": [
        "# Qiskit Toolkit\n",
        "### dan ehlers (pinballsurgeon@gmail.com)\n",
        "\n",
        "#### objectives\n",
        "1.  Demonstrate Hadamard Gate\n",
        "  * https://en.wikipedia.org/wiki/Quantum_logic_gate#Hadamard_gate\n",
        "\n",
        "\n"
      ],
      "metadata": {
        "id": "rKC3dqQGg4Zc"
      }
    },
    {
      "cell_type": "code",
      "source": [
        "# install qiskit\n",
        "# !pip install qiskit"
      ],
      "metadata": {
        "id": "HMhORphSfyHX"
      },
      "execution_count": 7,
      "outputs": []
    },
    {
      "cell_type": "code",
      "execution_count": 6,
      "metadata": {
        "id": "2cwNEtY1gnQA",
        "colab": {
          "base_uri": "https://localhost:8080/",
          "height": 90
        },
        "outputId": "6555b77e-e655-4f62-9ae6-91f499be2a46"
      },
      "outputs": [
        {
          "name": "stdout",
          "output_type": "stream",
          "text": [
            "RESULT:  {'0': 510, '1': 514}\n",
            "Press any key to close\n",
            "\n"
          ]
        },
        {
          "output_type": "execute_result",
          "data": {
            "text/plain": [
              "''"
            ],
            "application/vnd.google.colaboratory.intrinsic+json": {
              "type": "string"
            }
          },
          "metadata": {},
          "execution_count": 6
        }
      ],
      "source": [
        "from qiskit import QuantumRegister, ClassicalRegister, QuantumCircuit, execute, IBMQ\n",
        "\n",
        "IBMQ.enable_account('d08a710100eb4e4153baffea061d785dffaa0d47bb1201bb20a76b076314d3f1f835dcca617974525b1fafc995d1d35947cf500bc3a4dbf1a06a01214ec5fc45') # Get this from your IBM Q account\n",
        "\n",
        "provider = IBMQ.get_provider(hub='ibm-q')\n",
        "\n",
        "q = QuantumRegister(1,'q') # Initialise quantum register\n",
        "c = ClassicalRegister(1,'c') # Initialise classical register\n",
        "\n",
        "circuit = QuantumCircuit(q,c) # Initialise circuit\n",
        "circuit.h(q[0]) # Put Qubit 0 in to superposition using hadamard gate \n",
        "circuit.measure(q,c) # Measure qubit\n",
        "\n",
        "backend = provider.get_backend('ibmq_qasm_simulator') # Set device to IBMs quantum simulator\n",
        "job = execute(circuit, backend, shots=1024) # Execute job and run program 1024 times \n",
        "            \n",
        "result = job.result() # Get result\n",
        "counts = result.get_counts(circuit) # Count the number of measurements for each state\n",
        "print('RESULT: ',counts) # Print result \n",
        "print('Press any key to close')\n",
        "input()"
      ]
    }
  ]
}